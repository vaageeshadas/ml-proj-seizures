{
 "cells": [
  {
   "cell_type": "code",
   "execution_count": 1,
   "id": "f0a8ee24-e63a-4d2e-8439-0907d62622b0",
   "metadata": {},
   "outputs": [
    {
     "name": "stdout",
     "output_type": "stream",
     "text": [
      "Defaulting to user installation because normal site-packages is not writeable\n",
      "Collecting opendatasets\n",
      "  Downloading opendatasets-0.1.22-py3-none-any.whl.metadata (9.2 kB)\n",
      "Requirement already satisfied: tqdm in /ihome/crc/install/jupyterhub/hub4.0.2/lib/python3.11/site-packages (from opendatasets) (4.65.0)\n",
      "Collecting kaggle (from opendatasets)\n",
      "  Downloading kaggle-1.7.4.2-py3-none-any.whl.metadata (16 kB)\n",
      "Requirement already satisfied: click in /ihome/cs1671_2025s/vad50/.local/lib/python3.11/site-packages (from opendatasets) (8.1.8)\n",
      "Requirement already satisfied: bleach in /ihome/crc/install/jupyterhub/hub4.0.2/lib/python3.11/site-packages (from kaggle->opendatasets) (4.1.0)\n",
      "Requirement already satisfied: certifi>=14.05.14 in /ihome/crc/install/jupyterhub/hub4.0.2/lib/python3.11/site-packages (from kaggle->opendatasets) (2023.11.17)\n",
      "Requirement already satisfied: charset-normalizer in /ihome/crc/install/jupyterhub/hub4.0.2/lib/python3.11/site-packages (from kaggle->opendatasets) (2.0.4)\n",
      "Requirement already satisfied: idna in /ihome/crc/install/jupyterhub/hub4.0.2/lib/python3.11/site-packages (from kaggle->opendatasets) (3.4)\n",
      "Collecting protobuf (from kaggle->opendatasets)\n",
      "  Downloading protobuf-6.30.1-cp39-abi3-manylinux2014_x86_64.whl.metadata (593 bytes)\n",
      "Requirement already satisfied: python-dateutil>=2.5.3 in /ihome/crc/install/jupyterhub/hub4.0.2/lib/python3.11/site-packages (from kaggle->opendatasets) (2.8.2)\n",
      "Collecting python-slugify (from kaggle->opendatasets)\n",
      "  Downloading python_slugify-8.0.4-py2.py3-none-any.whl.metadata (8.5 kB)\n",
      "Requirement already satisfied: requests in /ihome/crc/install/jupyterhub/hub4.0.2/lib/python3.11/site-packages (from kaggle->opendatasets) (2.31.0)\n",
      "Requirement already satisfied: setuptools>=21.0.0 in /ihome/crc/install/jupyterhub/hub4.0.2/lib/python3.11/site-packages (from kaggle->opendatasets) (68.2.2)\n",
      "Requirement already satisfied: six>=1.10 in /ihome/crc/install/jupyterhub/hub4.0.2/lib/python3.11/site-packages (from kaggle->opendatasets) (1.16.0)\n",
      "Collecting text-unidecode (from kaggle->opendatasets)\n",
      "  Downloading text_unidecode-1.3-py2.py3-none-any.whl.metadata (2.4 kB)\n",
      "Requirement already satisfied: urllib3>=1.15.1 in /ihome/crc/install/jupyterhub/hub4.0.2/lib/python3.11/site-packages (from kaggle->opendatasets) (1.26.18)\n",
      "Requirement already satisfied: webencodings in /ihome/crc/install/jupyterhub/hub4.0.2/lib/python3.11/site-packages (from kaggle->opendatasets) (0.5.1)\n",
      "Requirement already satisfied: packaging in /ihome/crc/install/jupyterhub/hub4.0.2/lib/python3.11/site-packages (from bleach->kaggle->opendatasets) (23.1)\n",
      "Downloading opendatasets-0.1.22-py3-none-any.whl (15 kB)\n",
      "Downloading kaggle-1.7.4.2-py3-none-any.whl (173 kB)\n",
      "\u001b[2K   \u001b[90m━━━━━━━━━━━━━━━━━━━━━━━━━━━━━━━━━━━━━━━━\u001b[0m \u001b[32m173.2/173.2 kB\u001b[0m \u001b[31m4.6 MB/s\u001b[0m eta \u001b[36m0:00:00\u001b[0ma \u001b[36m0:00:01\u001b[0m\n",
      "\u001b[?25hDownloading protobuf-6.30.1-cp39-abi3-manylinux2014_x86_64.whl (316 kB)\n",
      "\u001b[2K   \u001b[90m━━━━━━━━━━━━━━━━━━━━━━━━━━━━━━━━━━━━━━━━\u001b[0m \u001b[32m316.2/316.2 kB\u001b[0m \u001b[31m9.9 MB/s\u001b[0m eta \u001b[36m0:00:00\u001b[0m\n",
      "\u001b[?25hDownloading python_slugify-8.0.4-py2.py3-none-any.whl (10 kB)\n",
      "Downloading text_unidecode-1.3-py2.py3-none-any.whl (78 kB)\n",
      "\u001b[2K   \u001b[90m━━━━━━━━━━━━━━━━━━━━━━━━━━━━━━━━━━━━━━━━\u001b[0m \u001b[32m78.2/78.2 kB\u001b[0m \u001b[31m4.2 MB/s\u001b[0m eta \u001b[36m0:00:00\u001b[0m\n",
      "\u001b[?25hInstalling collected packages: text-unidecode, python-slugify, protobuf, kaggle, opendatasets\n",
      "\u001b[33m  WARNING: The script slugify is installed in '/ihome/cs1671_2025s/vad50/.local/bin' which is not on PATH.\n",
      "  Consider adding this directory to PATH or, if you prefer to suppress this warning, use --no-warn-script-location.\u001b[0m\u001b[33m\n",
      "\u001b[0m\u001b[33m  WARNING: The script kaggle is installed in '/ihome/cs1671_2025s/vad50/.local/bin' which is not on PATH.\n",
      "  Consider adding this directory to PATH or, if you prefer to suppress this warning, use --no-warn-script-location.\u001b[0m\u001b[33m\n",
      "\u001b[0mSuccessfully installed kaggle-1.7.4.2 opendatasets-0.1.22 protobuf-6.30.1 python-slugify-8.0.4 text-unidecode-1.3\n"
     ]
    }
   ],
   "source": [
    "!pip install opendatasets"
   ]
  },
  {
   "cell_type": "code",
   "execution_count": 2,
   "id": "737c0f4b-887c-4e56-8b34-a605a4e2fc8e",
   "metadata": {},
   "outputs": [],
   "source": [
    "import opendatasets as od"
   ]
  },
  {
   "cell_type": "code",
   "execution_count": 3,
   "id": "7b6c1b37-e506-429e-9ead-e4cbe86de35b",
   "metadata": {},
   "outputs": [
    {
     "name": "stdout",
     "output_type": "stream",
     "text": [
      "Please provide your Kaggle credentials to download this dataset. Learn more: http://bit.ly/kaggle-creds\n",
      "Your Kaggle username:"
     ]
    },
    {
     "name": "stdin",
     "output_type": "stream",
     "text": [
      "  vaageeshad\n"
     ]
    },
    {
     "name": "stdout",
     "output_type": "stream",
     "text": [
      "Your Kaggle Key:"
     ]
    },
    {
     "name": "stdin",
     "output_type": "stream",
     "text": [
      "  ········\n"
     ]
    },
    {
     "name": "stdout",
     "output_type": "stream",
     "text": [
      "Dataset URL: https://www.kaggle.com/datasets/harunshimanto/epileptic-seizure-recognition\n"
     ]
    }
   ],
   "source": [
    "od.download(\"https://www.kaggle.com/datasets/harunshimanto/epileptic-seizure-recognition/data\")"
   ]
  },
  {
   "cell_type": "code",
   "execution_count": 7,
   "id": "96452e0f-4f97-4330-b03c-2ccffbdbcd00",
   "metadata": {},
   "outputs": [],
   "source": [
    "import pandas as pd\n",
    "\n",
    "df = pd.read_csv(\"epileptic-seizure-recognition/Epileptic Seizure Recognition.csv\")"
   ]
  },
  {
   "cell_type": "code",
   "execution_count": 9,
   "id": "adbbcc9b-b4dd-47a2-8896-f9105a606a40",
   "metadata": {},
   "outputs": [
    {
     "name": "stdout",
     "output_type": "stream",
     "text": [
      "Defaulting to user installation because normal site-packages is not writeable\n",
      "Collecting mne\n",
      "  Downloading mne-1.9.0-py3-none-any.whl.metadata (20 kB)\n",
      "Requirement already satisfied: decorator in /ihome/crc/install/jupyterhub/hub4.0.2/lib/python3.11/site-packages (from mne) (5.1.1)\n",
      "Requirement already satisfied: jinja2 in /ihome/crc/install/jupyterhub/hub4.0.2/lib/python3.11/site-packages (from mne) (3.1.2)\n",
      "Collecting lazy-loader>=0.3 (from mne)\n",
      "  Downloading lazy_loader-0.4-py3-none-any.whl.metadata (7.6 kB)\n",
      "Requirement already satisfied: matplotlib>=3.6 in /ihome/crc/install/jupyterhub/hub4.0.2/lib/python3.11/site-packages (from mne) (3.8.0)\n",
      "Requirement already satisfied: numpy<3,>=1.23 in /ihome/crc/install/jupyterhub/hub4.0.2/lib/python3.11/site-packages (from mne) (1.26.3)\n",
      "Requirement already satisfied: packaging in /ihome/crc/install/jupyterhub/hub4.0.2/lib/python3.11/site-packages (from mne) (23.1)\n",
      "Collecting pooch>=1.5 (from mne)\n",
      "  Downloading pooch-1.8.2-py3-none-any.whl.metadata (10 kB)\n",
      "Requirement already satisfied: scipy>=1.9 in /ihome/crc/install/jupyterhub/hub4.0.2/lib/python3.11/site-packages (from mne) (1.11.4)\n",
      "Requirement already satisfied: tqdm in /ihome/crc/install/jupyterhub/hub4.0.2/lib/python3.11/site-packages (from mne) (4.65.0)\n",
      "Requirement already satisfied: contourpy>=1.0.1 in /ihome/crc/install/jupyterhub/hub4.0.2/lib/python3.11/site-packages (from matplotlib>=3.6->mne) (1.2.0)\n",
      "Requirement already satisfied: cycler>=0.10 in /ihome/crc/install/jupyterhub/hub4.0.2/lib/python3.11/site-packages (from matplotlib>=3.6->mne) (0.11.0)\n",
      "Requirement already satisfied: fonttools>=4.22.0 in /ihome/crc/install/jupyterhub/hub4.0.2/lib/python3.11/site-packages (from matplotlib>=3.6->mne) (4.25.0)\n",
      "Requirement already satisfied: kiwisolver>=1.0.1 in /ihome/crc/install/jupyterhub/hub4.0.2/lib/python3.11/site-packages (from matplotlib>=3.6->mne) (1.4.4)\n",
      "Requirement already satisfied: pillow>=6.2.0 in /ihome/crc/install/jupyterhub/hub4.0.2/lib/python3.11/site-packages (from matplotlib>=3.6->mne) (10.0.1)\n",
      "Requirement already satisfied: pyparsing>=2.3.1 in /ihome/crc/install/jupyterhub/hub4.0.2/lib/python3.11/site-packages (from matplotlib>=3.6->mne) (3.0.9)\n",
      "Requirement already satisfied: python-dateutil>=2.7 in /ihome/crc/install/jupyterhub/hub4.0.2/lib/python3.11/site-packages (from matplotlib>=3.6->mne) (2.8.2)\n",
      "Requirement already satisfied: platformdirs>=2.5.0 in /ihome/crc/install/jupyterhub/hub4.0.2/lib/python3.11/site-packages (from pooch>=1.5->mne) (3.10.0)\n",
      "Requirement already satisfied: requests>=2.19.0 in /ihome/crc/install/jupyterhub/hub4.0.2/lib/python3.11/site-packages (from pooch>=1.5->mne) (2.31.0)\n",
      "Requirement already satisfied: MarkupSafe>=2.0 in /ihome/crc/install/jupyterhub/hub4.0.2/lib/python3.11/site-packages (from jinja2->mne) (2.1.3)\n",
      "Requirement already satisfied: six>=1.5 in /ihome/crc/install/jupyterhub/hub4.0.2/lib/python3.11/site-packages (from python-dateutil>=2.7->matplotlib>=3.6->mne) (1.16.0)\n",
      "Requirement already satisfied: charset-normalizer<4,>=2 in /ihome/crc/install/jupyterhub/hub4.0.2/lib/python3.11/site-packages (from requests>=2.19.0->pooch>=1.5->mne) (2.0.4)\n",
      "Requirement already satisfied: idna<4,>=2.5 in /ihome/crc/install/jupyterhub/hub4.0.2/lib/python3.11/site-packages (from requests>=2.19.0->pooch>=1.5->mne) (3.4)\n",
      "Requirement already satisfied: urllib3<3,>=1.21.1 in /ihome/crc/install/jupyterhub/hub4.0.2/lib/python3.11/site-packages (from requests>=2.19.0->pooch>=1.5->mne) (1.26.18)\n",
      "Requirement already satisfied: certifi>=2017.4.17 in /ihome/crc/install/jupyterhub/hub4.0.2/lib/python3.11/site-packages (from requests>=2.19.0->pooch>=1.5->mne) (2023.11.17)\n",
      "Downloading mne-1.9.0-py3-none-any.whl (7.4 MB)\n",
      "\u001b[2K   \u001b[90m━━━━━━━━━━━━━━━━━━━━━━━━━━━━━━━━━━━━━━━━\u001b[0m \u001b[32m7.4/7.4 MB\u001b[0m \u001b[31m33.1 MB/s\u001b[0m eta \u001b[36m0:00:00\u001b[0m00:01\u001b[0m00:01\u001b[0m\n",
      "\u001b[?25hDownloading lazy_loader-0.4-py3-none-any.whl (12 kB)\n",
      "Downloading pooch-1.8.2-py3-none-any.whl (64 kB)\n",
      "\u001b[2K   \u001b[90m━━━━━━━━━━━━━━━━━━━━━━━━━━━━━━━━━━━━━━━━\u001b[0m \u001b[32m64.6/64.6 kB\u001b[0m \u001b[31m3.2 MB/s\u001b[0m eta \u001b[36m0:00:00\u001b[0m\n",
      "\u001b[?25hInstalling collected packages: lazy-loader, pooch, mne\n",
      "\u001b[33m  WARNING: The script mne is installed in '/ihome/cs1671_2025s/vad50/.local/bin' which is not on PATH.\n",
      "  Consider adding this directory to PATH or, if you prefer to suppress this warning, use --no-warn-script-location.\u001b[0m\u001b[33m\n",
      "\u001b[0mSuccessfully installed lazy-loader-0.4 mne-1.9.0 pooch-1.8.2\n"
     ]
    }
   ],
   "source": [
    "!pip install mne"
   ]
  },
  {
   "cell_type": "code",
   "execution_count": 11,
   "id": "98d399d8-dfd5-4152-99db-475bd985488c",
   "metadata": {},
   "outputs": [
    {
     "ename": "ValueError",
     "evalue": "could not convert string to float: 'X21.V1.791'",
     "output_type": "error",
     "traceback": [
      "\u001b[0;31m---------------------------------------------------------------------------\u001b[0m",
      "\u001b[0;31mValueError\u001b[0m                                Traceback (most recent call last)",
      "Cell \u001b[0;32mIn[11], line 10\u001b[0m\n\u001b[1;32m      7\u001b[0m ch_names \u001b[38;5;241m=\u001b[39m [\u001b[38;5;124mf\u001b[39m\u001b[38;5;124m\"\u001b[39m\u001b[38;5;124mEEG \u001b[39m\u001b[38;5;132;01m{\u001b[39;00mi\u001b[38;5;241m+\u001b[39m\u001b[38;5;241m1\u001b[39m\u001b[38;5;132;01m}\u001b[39;00m\u001b[38;5;124m\"\u001b[39m \u001b[38;5;28;01mfor\u001b[39;00m i \u001b[38;5;129;01min\u001b[39;00m \u001b[38;5;28mrange\u001b[39m(n_channels)]\n\u001b[1;32m      8\u001b[0m info \u001b[38;5;241m=\u001b[39m mne\u001b[38;5;241m.\u001b[39mcreate_info(ch_names\u001b[38;5;241m=\u001b[39mch_names, sfreq\u001b[38;5;241m=\u001b[39msfreq, ch_types\u001b[38;5;241m=\u001b[39m\u001b[38;5;124m\"\u001b[39m\u001b[38;5;124meeg\u001b[39m\u001b[38;5;124m\"\u001b[39m)\n\u001b[0;32m---> 10\u001b[0m raw \u001b[38;5;241m=\u001b[39m mne\u001b[38;5;241m.\u001b[39mio\u001b[38;5;241m.\u001b[39mRawArray(eeg_data, info)\n\u001b[1;32m     12\u001b[0m raw\u001b[38;5;241m.\u001b[39mplot(duration\u001b[38;5;241m=\u001b[39m\u001b[38;5;241m5\u001b[39m, n_channels\u001b[38;5;241m=\u001b[39m\u001b[38;5;241m10\u001b[39m, scalings\u001b[38;5;241m=\u001b[39m\u001b[38;5;124m\"\u001b[39m\u001b[38;5;124mauto\u001b[39m\u001b[38;5;124m\"\u001b[39m)\n",
      "File \u001b[0;32m<decorator-gen-204>:12\u001b[0m, in \u001b[0;36m__init__\u001b[0;34m(self, data, info, first_samp, copy, verbose)\u001b[0m\n",
      "File \u001b[0;32m~/.local/lib/python3.11/site-packages/mne/io/array/array.py:59\u001b[0m, in \u001b[0;36mRawArray.__init__\u001b[0;34m(self, data, info, first_samp, copy, verbose)\u001b[0m\n\u001b[1;32m     57\u001b[0m dtype \u001b[38;5;241m=\u001b[39m np\u001b[38;5;241m.\u001b[39mcomplex128 \u001b[38;5;28;01mif\u001b[39;00m np\u001b[38;5;241m.\u001b[39many(np\u001b[38;5;241m.\u001b[39miscomplex(data)) \u001b[38;5;28;01melse\u001b[39;00m np\u001b[38;5;241m.\u001b[39mfloat64\n\u001b[1;32m     58\u001b[0m orig_data \u001b[38;5;241m=\u001b[39m data\n\u001b[0;32m---> 59\u001b[0m data \u001b[38;5;241m=\u001b[39m np\u001b[38;5;241m.\u001b[39masanyarray(orig_data, dtype\u001b[38;5;241m=\u001b[39mdtype)\n\u001b[1;32m     60\u001b[0m \u001b[38;5;28;01mif\u001b[39;00m data\u001b[38;5;241m.\u001b[39mndim \u001b[38;5;241m!=\u001b[39m \u001b[38;5;241m2\u001b[39m:\n\u001b[1;32m     61\u001b[0m     \u001b[38;5;28;01mraise\u001b[39;00m \u001b[38;5;167;01mValueError\u001b[39;00m(\n\u001b[1;32m     62\u001b[0m         \u001b[38;5;124m\"\u001b[39m\u001b[38;5;124mData must be a 2D array of shape (n_channels, n_samples), got shape \u001b[39m\u001b[38;5;124m\"\u001b[39m\n\u001b[1;32m     63\u001b[0m         \u001b[38;5;124mf\u001b[39m\u001b[38;5;124m\"\u001b[39m\u001b[38;5;132;01m{\u001b[39;00mdata\u001b[38;5;241m.\u001b[39mshape\u001b[38;5;132;01m}\u001b[39;00m\u001b[38;5;124m\"\u001b[39m\n\u001b[1;32m     64\u001b[0m     )\n",
      "\u001b[0;31mValueError\u001b[0m: could not convert string to float: 'X21.V1.791'"
     ]
    }
   ],
   "source": [
    "import mne\n",
    "\n",
    "eeg_data = df.iloc[:, :-1].values.T\n",
    "\n",
    "n_channels = eeg_data.shape[0]\n",
    "sfreq = 178\n",
    "ch_names = [f\"EEG {i+1}\" for i in range(n_channels)]\n",
    "info = mne.create_info(ch_names=ch_names, sfreq=sfreq, ch_types=\"eeg\")\n",
    "\n",
    "raw = mne.io.RawArray(eeg_data, info)\n",
    "\n",
    "raw.plot(duration=5, n_channels=10, scalings=\"auto\")"
   ]
  },
  {
   "cell_type": "code",
   "execution_count": null,
   "id": "c3d1c224-409f-41ae-baad-3cd930f473eb",
   "metadata": {},
   "outputs": [],
   "source": []
  }
 ],
 "metadata": {
  "kernelspec": {
   "display_name": "Python 3 (ipykernel)",
   "language": "python",
   "name": "python3"
  },
  "language_info": {
   "codemirror_mode": {
    "name": "ipython",
    "version": 3
   },
   "file_extension": ".py",
   "mimetype": "text/x-python",
   "name": "python",
   "nbconvert_exporter": "python",
   "pygments_lexer": "ipython3",
   "version": "3.11.5"
  }
 },
 "nbformat": 4,
 "nbformat_minor": 5
}
